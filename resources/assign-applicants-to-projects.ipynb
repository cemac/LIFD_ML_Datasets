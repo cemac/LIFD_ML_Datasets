{
 "cells": [
  {
   "cell_type": "markdown",
   "id": "eeb92514",
   "metadata": {},
   "source": [
    "# Assign applicants to projects\n",
    "\n",
    "Try to give applicants one of their first-choice projects, by randomly assigning their choices, weighted by number of places remaining.\n",
    "\n",
    "Each applicant was able to select more than one (assumed equal) *first-choice* project, and similarly more than one *second-choice* project."
   ]
  },
  {
   "cell_type": "code",
   "execution_count": 1,
   "id": "3780347f",
   "metadata": {},
   "outputs": [],
   "source": [
    "import random\n",
    "\n",
    "import numpy as np\n",
    "import pandas as pd\n",
    "\n",
    "# Show all the data\n",
    "pd.options.display.max_rows = 200\n",
    "pd.options.display.max_columns = 50\n",
    "pd.options.display.max_colwidth = 1000"
   ]
  },
  {
   "cell_type": "markdown",
   "id": "fb1164ba",
   "metadata": {},
   "source": [
    "## Load data\n",
    "\n",
    "Load the applications and then filter out the ones that we don't want to allocate projects to (e.g. withdrawn, duplicates or withdrawn)."
   ]
  },
  {
   "cell_type": "code",
   "execution_count": 2,
   "id": "dcb662cf",
   "metadata": {},
   "outputs": [
    {
     "data": {
      "text/plain": [
       "(109, 17)"
      ]
     },
     "execution_count": 2,
     "metadata": {},
     "output_type": "execute_result"
    }
   ],
   "source": [
    "all_applicants = pd.read_excel('Applicants.xlsx')\n",
    "all_applicants.shape"
   ]
  },
  {
   "cell_type": "markdown",
   "id": "cc06ce41",
   "metadata": {},
   "source": [
    "For the purposes of this example, redact the actual data:"
   ]
  },
  {
   "cell_type": "code",
   "execution_count": 3,
   "id": "4d9463fb",
   "metadata": {},
   "outputs": [],
   "source": [
    "# Don't run this code in production\n",
    "# ------------------------------------------------------------\n",
    "\n",
    "# Redact personal data\n",
    "columns_to_redact = [\n",
    "    'Name', 'Preferred Name', 'Organisation', 'Email address', 'Role', 'Research interests',\n",
    "    'Please confirm you can meet the following requirements', 'JASMIN username', 'GitHub username',\n",
    "    'Please state the limitations on your availability', 'Any other information',\n",
    "]\n",
    "for column in columns_to_redact:\n",
    "    all_applicants[column] = \"*** redacted ***\"\n",
    "\n",
    "# Shorten project names\n",
    "from itertools import chain\n",
    "first_choices = all_applicants['First-choice projects of interest (tick all that apply)'].str.strip(';').str.split(';')\n",
    "projects = set(chain(*(choice for choice in first_choices)))\n",
    "for replace_with, to_replace in enumerate(projects, start=1):\n",
    "    replace_with = f'Project {replace_with} title...'\n",
    "    all_applicants['First-choice projects of interest (tick all that apply)'] = (\n",
    "        all_applicants['First-choice projects of interest (tick all that apply)']\n",
    "        .str.replace(to_replace, replace_with, regex=False)\n",
    "    )\n",
    "    all_applicants['Second-choice projects of interest (tick all that apply)'] = (\n",
    "        all_applicants['Second-choice projects of interest (tick all that apply)']\n",
    "        .str.replace(to_replace, replace_with, regex=False)\n",
    "    )\n",
    "    \n",
    "# ------------------------------------------------------------"
   ]
  },
  {
   "cell_type": "markdown",
   "id": "181feb92",
   "metadata": {},
   "source": [
    "Now filter out:"
   ]
  },
  {
   "cell_type": "code",
   "execution_count": 4,
   "id": "4ac6e41b",
   "metadata": {},
   "outputs": [
    {
     "data": {
      "text/plain": [
       "(90, 17)"
      ]
     },
     "execution_count": 4,
     "metadata": {},
     "output_type": "execute_result"
    }
   ],
   "source": [
    "#included = (\n",
    "#    all_applicants['Email address'].str.endswith('.ac.uk') |\n",
    "#    all_applicants['Email address'].str.endswith('@metoffice.gov.uk')\n",
    "#)\n",
    "included = all_applicants['Include'] == 'Yes'\n",
    "\n",
    "applicants = all_applicants[included].copy()\n",
    "applicants.shape"
   ]
  },
  {
   "cell_type": "code",
   "execution_count": 5,
   "id": "6c909954",
   "metadata": {},
   "outputs": [
    {
     "data": {
      "text/html": [
       "<div>\n",
       "<style scoped>\n",
       "    .dataframe tbody tr th:only-of-type {\n",
       "        vertical-align: middle;\n",
       "    }\n",
       "\n",
       "    .dataframe tbody tr th {\n",
       "        vertical-align: top;\n",
       "    }\n",
       "\n",
       "    .dataframe thead th {\n",
       "        text-align: right;\n",
       "    }\n",
       "</style>\n",
       "<table border=\"1\" class=\"dataframe\">\n",
       "  <thead>\n",
       "    <tr style=\"text-align: right;\">\n",
       "      <th></th>\n",
       "      <th>Name</th>\n",
       "      <th>Preferred Name</th>\n",
       "      <th>Pronouns</th>\n",
       "      <th>Organisation</th>\n",
       "      <th>Email address</th>\n",
       "      <th>Role</th>\n",
       "      <th>Research interests</th>\n",
       "      <th>Include</th>\n",
       "      <th>First-choice projects of interest (tick all that apply)</th>\n",
       "      <th>Second-choice projects of interest (tick all that apply)</th>\n",
       "      <th>Please confirm you can meet the following requirements</th>\n",
       "      <th>Do you already have a JASMIN account?</th>\n",
       "      <th>JASMIN username</th>\n",
       "      <th>GitHub username</th>\n",
       "      <th>Happy for name/institution to go on website?</th>\n",
       "      <th>Please state the limitations on your availability</th>\n",
       "      <th>Any other information</th>\n",
       "    </tr>\n",
       "  </thead>\n",
       "  <tbody>\n",
       "    <tr>\n",
       "      <th>0</th>\n",
       "      <td>*** redacted ***</td>\n",
       "      <td>*** redacted ***</td>\n",
       "      <td>He/Him</td>\n",
       "      <td>*** redacted ***</td>\n",
       "      <td>*** redacted ***</td>\n",
       "      <td>*** redacted ***</td>\n",
       "      <td>*** redacted ***</td>\n",
       "      <td>Yes</td>\n",
       "      <td>Project 4 title...;Project 11 title...;</td>\n",
       "      <td>Project 8 title...;Project 6 title...;</td>\n",
       "      <td>*** redacted ***</td>\n",
       "      <td>Yes</td>\n",
       "      <td>*** redacted ***</td>\n",
       "      <td>*** redacted ***</td>\n",
       "      <td>Yes</td>\n",
       "      <td>*** redacted ***</td>\n",
       "      <td>*** redacted ***</td>\n",
       "    </tr>\n",
       "    <tr>\n",
       "      <th>1</th>\n",
       "      <td>*** redacted ***</td>\n",
       "      <td>*** redacted ***</td>\n",
       "      <td>He/him</td>\n",
       "      <td>*** redacted ***</td>\n",
       "      <td>*** redacted ***</td>\n",
       "      <td>*** redacted ***</td>\n",
       "      <td>*** redacted ***</td>\n",
       "      <td>Yes</td>\n",
       "      <td>Project 4 title...;</td>\n",
       "      <td>Project 8 title...;Project 5 title...;</td>\n",
       "      <td>*** redacted ***</td>\n",
       "      <td>No - we will allocate you a temporary account</td>\n",
       "      <td>*** redacted ***</td>\n",
       "      <td>*** redacted ***</td>\n",
       "      <td>Yes</td>\n",
       "      <td>*** redacted ***</td>\n",
       "      <td>*** redacted ***</td>\n",
       "    </tr>\n",
       "  </tbody>\n",
       "</table>\n",
       "</div>"
      ],
      "text/plain": [
       "               Name    Preferred Name Pronouns      Organisation  \\\n",
       "0  *** redacted ***  *** redacted ***   He/Him  *** redacted ***   \n",
       "1  *** redacted ***  *** redacted ***   He/him  *** redacted ***   \n",
       "\n",
       "      Email address              Role Research interests Include  \\\n",
       "0  *** redacted ***  *** redacted ***   *** redacted ***     Yes   \n",
       "1  *** redacted ***  *** redacted ***   *** redacted ***     Yes   \n",
       "\n",
       "  First-choice projects of interest (tick all that apply)  \\\n",
       "0                 Project 4 title...;Project 11 title...;   \n",
       "1                                     Project 4 title...;   \n",
       "\n",
       "  Second-choice projects of interest (tick all that apply)  \\\n",
       "0                   Project 8 title...;Project 6 title...;   \n",
       "1                   Project 8 title...;Project 5 title...;   \n",
       "\n",
       "  Please confirm you can meet the following requirements  \\\n",
       "0                                       *** redacted ***   \n",
       "1                                       *** redacted ***   \n",
       "\n",
       "           Do you already have a JASMIN account?   JASMIN username  \\\n",
       "0                                            Yes  *** redacted ***   \n",
       "1  No - we will allocate you a temporary account  *** redacted ***   \n",
       "\n",
       "    GitHub username Happy for name/institution to go on website?  \\\n",
       "0  *** redacted ***                                          Yes   \n",
       "1  *** redacted ***                                          Yes   \n",
       "\n",
       "  Please state the limitations on your availability Any other information  \n",
       "0                                  *** redacted ***      *** redacted ***  \n",
       "1                                  *** redacted ***      *** redacted ***  "
      ]
     },
     "execution_count": 5,
     "metadata": {},
     "output_type": "execute_result"
    }
   ],
   "source": [
    "applicants.head(2)"
   ]
  },
  {
   "cell_type": "markdown",
   "id": "d31e6a48",
   "metadata": {},
   "source": [
    "## Extract chosen projects\n",
    "\n",
    "We have given each project a number:"
   ]
  },
  {
   "cell_type": "code",
   "execution_count": 6,
   "id": "0eb714d3",
   "metadata": {},
   "outputs": [],
   "source": [
    "projects = [\n",
    "    \"Project 1 title...\",\n",
    "    \"Project 2 title...\",\n",
    "    \"Project 3 title...\",\n",
    "    \"Project 4 title...\",\n",
    "    \"Project 5 title...\",\n",
    "    \"Project 6 title...\",\n",
    "    \"Project 7 title...\",\n",
    "    \"Project 8 title...\",\n",
    "    \"Project 9 title...\",\n",
    "    \"Project 10 title...\",\n",
    "    \"Project 11 title...\",\n",
    "]"
   ]
  },
  {
   "cell_type": "markdown",
   "id": "648e517e",
   "metadata": {},
   "source": [
    "The online form concatenates the choices, so split them into a list:"
   ]
  },
  {
   "cell_type": "code",
   "execution_count": 7,
   "id": "bc90ab47",
   "metadata": {},
   "outputs": [
    {
     "data": {
      "text/plain": [
       "0    [Project 4 title..., Project 11 title...]\n",
       "1                         [Project 4 title...]\n",
       "Name: First-choice projects of interest (tick all that apply), dtype: object"
      ]
     },
     "execution_count": 7,
     "metadata": {},
     "output_type": "execute_result"
    }
   ],
   "source": [
    "first_choices = applicants['First-choice projects of interest (tick all that apply)'].str.strip(';').str.split(';')\n",
    "second_choices = applicants['Second-choice projects of interest (tick all that apply)'].str.strip(';').str.split(';')\n",
    "\n",
    "first_choices.head(2)"
   ]
  },
  {
   "cell_type": "markdown",
   "id": "83845a11",
   "metadata": {},
   "source": [
    "Given the number of projects and number of applicants, we might assume about 8 people per team:"
   ]
  },
  {
   "cell_type": "code",
   "execution_count": 8,
   "id": "256a888a",
   "metadata": {},
   "outputs": [
    {
     "data": {
      "text/plain": [
       "8.181818181818182"
      ]
     },
     "execution_count": 8,
     "metadata": {},
     "output_type": "execute_result"
    }
   ],
   "source": [
    "len(applicants) / len(projects)"
   ]
  },
  {
   "cell_type": "markdown",
   "id": "c277463d",
   "metadata": {},
   "source": [
    "However we have some double-groups with a questions that can be split in two, so we will aim for a group size smaller than this."
   ]
  },
  {
   "cell_type": "markdown",
   "id": "382d8ba6",
   "metadata": {},
   "source": [
    "## Assignments\n",
    "\n",
    "Encapsulate the assignment alogirthm in a function.\n",
    "\n",
    "In summary:\n",
    "\n",
    "* Start by trying to assign those people who only chose one first-choice project\n",
    "* Then randomly assign first choice projects, starting with those who chose two\n",
    "  first-choice projects. Weight random choices by inverse exponential of number\n",
    "  of existing assignments to that project\n",
    "* Now continue for applicants with any remaining number of first-choices"
   ]
  },
  {
   "cell_type": "code",
   "execution_count": 9,
   "id": "c45f9dbc",
   "metadata": {},
   "outputs": [],
   "source": [
    "def assign_participants(ideal_group_sizes, random_state=1234):\n",
    "    random.seed(random_state)\n",
    "    \n",
    "    assignments = pd.Series(\n",
    "        index=first_choices.index,\n",
    "        dtype=pd.CategoricalDtype(categories=projects),\n",
    "    )\n",
    "\n",
    "    # Start by trying to assign those people who only chose one first-choice project\n",
    "    for applicant, choices in first_choices.items():\n",
    "        if len(choices) == 1:\n",
    "            assignments.loc[applicant] = choices[0]\n",
    "    \n",
    "    # Then randomly assign first choice projects, starting with those who chose two\n",
    "    # first-choice projects. Weight random choices by inverse exponential of number\n",
    "    # of existing assignments to that project\n",
    "    def get_weights(choices, assignments):\n",
    "        group_sizes = assignments.value_counts()\n",
    "        weights = [\n",
    "            # Penalise if greater than ideal group size\n",
    "            1 / np.exp(group_sizes[choice] - ideal_group_sizes[choice])\n",
    "            for choice in choices\n",
    "        ]\n",
    "\n",
    "        # Normalise\n",
    "        return [weight / sum(weights) for weight in weights]\n",
    "\n",
    "    for applicant, choices in first_choices.items():\n",
    "        if len(choices) == 2:\n",
    "            choice = random.choices(choices, get_weights(choices, assignments))[0]\n",
    "            assignments.loc[applicant] = choice\n",
    "\n",
    "    # Now continue for applicants with any remaining number of first-choices\n",
    "    for applicant, choices in first_choices.items():\n",
    "        if len(choices) > 2:\n",
    "            choice = random.choices(choices, get_weights(choices, assignments))[0]\n",
    "            assignments.loc[applicant] = choice\n",
    "            \n",
    "    return assignments"
   ]
  },
  {
   "cell_type": "markdown",
   "id": "2991267e",
   "metadata": {},
   "source": [
    "Manually tweak the `ideal_group_sizes` paramater until the final group sizes are about right:"
   ]
  },
  {
   "cell_type": "code",
   "execution_count": 10,
   "id": "1e6720e8",
   "metadata": {},
   "outputs": [
    {
     "data": {
      "text/plain": [
       "Project 2 title...     11\n",
       "Project 4 title...     11\n",
       "Project 6 title...     10\n",
       "Project 8 title...     10\n",
       "Project 1 title...      8\n",
       "Project 3 title...      8\n",
       "Project 5 title...      7\n",
       "Project 10 title...     7\n",
       "Project 11 title...     7\n",
       "Project 9 title...      6\n",
       "Project 7 title...      5\n",
       "dtype: int64"
      ]
     },
     "execution_count": 10,
     "metadata": {},
     "output_type": "execute_result"
    }
   ],
   "source": [
    "assignments = assign_participants({\n",
    "    'Project 1 title...': 12,\n",
    "    'Project 2 title...': 14,\n",
    "    'Project 3 title...': 6,\n",
    "    'Project 4 title...': 14,\n",
    "    'Project 5 title...': 6,\n",
    "    'Project 6 title...': 8,\n",
    "    'Project 7 title...': 6,\n",
    "    'Project 8 title...': 10,\n",
    "    'Project 9 title...': 5,\n",
    "    'Project 10 title...': 8,\n",
    "    'Project 11 title...': 7,\n",
    "})\n",
    "\n",
    "assignments.value_counts()"
   ]
  },
  {
   "cell_type": "code",
   "execution_count": 11,
   "id": "de6e9b28",
   "metadata": {},
   "outputs": [
    {
     "data": {
      "text/html": [
       "<div>\n",
       "<style scoped>\n",
       "    .dataframe tbody tr th:only-of-type {\n",
       "        vertical-align: middle;\n",
       "    }\n",
       "\n",
       "    .dataframe tbody tr th {\n",
       "        vertical-align: top;\n",
       "    }\n",
       "\n",
       "    .dataframe thead th {\n",
       "        text-align: right;\n",
       "    }\n",
       "</style>\n",
       "<table border=\"1\" class=\"dataframe\">\n",
       "  <thead>\n",
       "    <tr style=\"text-align: right;\">\n",
       "      <th></th>\n",
       "      <th>Name</th>\n",
       "      <th>Preferred Name</th>\n",
       "      <th>Pronouns</th>\n",
       "      <th>Organisation</th>\n",
       "      <th>Email address</th>\n",
       "      <th>Role</th>\n",
       "      <th>Research interests</th>\n",
       "      <th>Include</th>\n",
       "      <th>First-choice projects of interest (tick all that apply)</th>\n",
       "      <th>Second-choice projects of interest (tick all that apply)</th>\n",
       "      <th>Please confirm you can meet the following requirements</th>\n",
       "      <th>Do you already have a JASMIN account?</th>\n",
       "      <th>JASMIN username</th>\n",
       "      <th>GitHub username</th>\n",
       "      <th>Happy for name/institution to go on website?</th>\n",
       "      <th>Please state the limitations on your availability</th>\n",
       "      <th>Any other information</th>\n",
       "      <th>Assigned project</th>\n",
       "    </tr>\n",
       "  </thead>\n",
       "  <tbody>\n",
       "    <tr>\n",
       "      <th>0</th>\n",
       "      <td>*** redacted ***</td>\n",
       "      <td>*** redacted ***</td>\n",
       "      <td>He/Him</td>\n",
       "      <td>*** redacted ***</td>\n",
       "      <td>*** redacted ***</td>\n",
       "      <td>*** redacted ***</td>\n",
       "      <td>*** redacted ***</td>\n",
       "      <td>Yes</td>\n",
       "      <td>Project 4 title...;Project 11 title...;</td>\n",
       "      <td>Project 8 title...;Project 6 title...;</td>\n",
       "      <td>*** redacted ***</td>\n",
       "      <td>Yes</td>\n",
       "      <td>*** redacted ***</td>\n",
       "      <td>*** redacted ***</td>\n",
       "      <td>Yes</td>\n",
       "      <td>*** redacted ***</td>\n",
       "      <td>*** redacted ***</td>\n",
       "      <td>Project 11 title...</td>\n",
       "    </tr>\n",
       "    <tr>\n",
       "      <th>1</th>\n",
       "      <td>*** redacted ***</td>\n",
       "      <td>*** redacted ***</td>\n",
       "      <td>He/him</td>\n",
       "      <td>*** redacted ***</td>\n",
       "      <td>*** redacted ***</td>\n",
       "      <td>*** redacted ***</td>\n",
       "      <td>*** redacted ***</td>\n",
       "      <td>Yes</td>\n",
       "      <td>Project 4 title...;</td>\n",
       "      <td>Project 8 title...;Project 5 title...;</td>\n",
       "      <td>*** redacted ***</td>\n",
       "      <td>No - we will allocate you a temporary account</td>\n",
       "      <td>*** redacted ***</td>\n",
       "      <td>*** redacted ***</td>\n",
       "      <td>Yes</td>\n",
       "      <td>*** redacted ***</td>\n",
       "      <td>*** redacted ***</td>\n",
       "      <td>Project 4 title...</td>\n",
       "    </tr>\n",
       "  </tbody>\n",
       "</table>\n",
       "</div>"
      ],
      "text/plain": [
       "               Name    Preferred Name Pronouns      Organisation  \\\n",
       "0  *** redacted ***  *** redacted ***   He/Him  *** redacted ***   \n",
       "1  *** redacted ***  *** redacted ***   He/him  *** redacted ***   \n",
       "\n",
       "      Email address              Role Research interests Include  \\\n",
       "0  *** redacted ***  *** redacted ***   *** redacted ***     Yes   \n",
       "1  *** redacted ***  *** redacted ***   *** redacted ***     Yes   \n",
       "\n",
       "  First-choice projects of interest (tick all that apply)  \\\n",
       "0                 Project 4 title...;Project 11 title...;   \n",
       "1                                     Project 4 title...;   \n",
       "\n",
       "  Second-choice projects of interest (tick all that apply)  \\\n",
       "0                   Project 8 title...;Project 6 title...;   \n",
       "1                   Project 8 title...;Project 5 title...;   \n",
       "\n",
       "  Please confirm you can meet the following requirements  \\\n",
       "0                                       *** redacted ***   \n",
       "1                                       *** redacted ***   \n",
       "\n",
       "           Do you already have a JASMIN account?   JASMIN username  \\\n",
       "0                                            Yes  *** redacted ***   \n",
       "1  No - we will allocate you a temporary account  *** redacted ***   \n",
       "\n",
       "    GitHub username Happy for name/institution to go on website?  \\\n",
       "0  *** redacted ***                                          Yes   \n",
       "1  *** redacted ***                                          Yes   \n",
       "\n",
       "  Please state the limitations on your availability Any other information  \\\n",
       "0                                  *** redacted ***      *** redacted ***   \n",
       "1                                  *** redacted ***      *** redacted ***   \n",
       "\n",
       "      Assigned project  \n",
       "0  Project 11 title...  \n",
       "1   Project 4 title...  "
      ]
     },
     "execution_count": 11,
     "metadata": {},
     "output_type": "execute_result"
    }
   ],
   "source": [
    "applicants['Assigned project'] = assignments\n",
    "applicants.head(2)"
   ]
  },
  {
   "cell_type": "markdown",
   "id": "54cbb462",
   "metadata": {},
   "source": [
    "## Acknowledgements\n",
    "\n",
    "By: [James Thomas](https://github.com/jatonline)\n",
    "\n",
    "Last updated: 20th May 2021"
   ]
  }
 ],
 "metadata": {
  "kernelspec": {
   "display_name": "Python 3",
   "language": "python",
   "name": "python3"
  },
  "language_info": {
   "codemirror_mode": {
    "name": "ipython",
    "version": 3
   },
   "file_extension": ".py",
   "mimetype": "text/x-python",
   "name": "python",
   "nbconvert_exporter": "python",
   "pygments_lexer": "ipython3",
   "version": "3.9.4"
  }
 },
 "nbformat": 4,
 "nbformat_minor": 5
}
